{
 "cells": [
  {
   "cell_type": "code",
   "execution_count": 1,
   "id": "496b2347",
   "metadata": {},
   "outputs": [],
   "source": [
    "import requests\n",
    "from multiprocessing import Pool\n",
    "from tqdm import tqdm\n",
    "import urllib3\n",
    "urllib3.disable_warnings()"
   ]
  },
  {
   "cell_type": "code",
   "execution_count": 2,
   "id": "8b43d4df",
   "metadata": {},
   "outputs": [],
   "source": [
    "badWords = [\n",
    "    'is available to buy',\n",
    "    'is available for sale'\n",
    "]"
   ]
  },
  {
   "cell_type": "code",
   "execution_count": 3,
   "id": "76c35c81",
   "metadata": {},
   "outputs": [],
   "source": [
    "def checkDomain(domain):\n",
    "    try:\n",
    "        domain = domain.strip()\n",
    "        url = f'http://{domain}/'\n",
    "        res = requests.get(url,timeout=1, verify=False)\n",
    "        source = res.text.lower()\n",
    "        if res.status_code == 200:\n",
    "            for item in badWords:\n",
    "                if item in source:\n",
    "                    return None#f\"#{domain} - {item}\"\n",
    "            return domain\n",
    "        else:\n",
    "            return None # f\"#{domain} - {res.status_code}\"            \n",
    "    except Exception as e:\n",
    "        return None # f\"#{domain} - {type(e)}\""
   ]
  },
  {
   "cell_type": "code",
   "execution_count": 5,
   "id": "fea53b01",
   "metadata": {},
   "outputs": [
    {
     "name": "stdout",
     "output_type": "stream",
     "text": [
      "Writing 1188 domains\n"
     ]
    }
   ],
   "source": [
    "if __name__ == '__main__':\n",
    "    domains = open('disposable_email_blocklist.conf','r').readlines()\n",
    "    print(f'Loaded {len(domains)} domains')\n",
    "    with Pool(35) as p:\n",
    "        scanned_domains = p.map(checkDomain, domains)\n",
    "        \n",
    "    valid_domains = list(filter(None,scanned_domains))\n",
    "    \n",
    "    valid_domains.sort()\n",
    "    \n",
    "    with open ('disposable_email_blocklist.conf','w') as f:\n",
    "        for item in valid_domains:\n",
    "            f.write(f'{item}\\n')\n",
    "\n",
    "    print(f'Writing {len(valid_domains)} domains')"
   ]
  },
  {
   "cell_type": "code",
   "execution_count": null,
   "id": "88231e00",
   "metadata": {},
   "outputs": [],
   "source": []
  }
 ],
 "metadata": {
  "kernelspec": {
   "display_name": "Python 3 (ipykernel)",
   "language": "python",
   "name": "python3"
  },
  "language_info": {
   "codemirror_mode": {
    "name": "ipython",
    "version": 3
   },
   "file_extension": ".py",
   "mimetype": "text/x-python",
   "name": "python",
   "nbconvert_exporter": "python",
   "pygments_lexer": "ipython3",
   "version": "3.8.10"
  }
 },
 "nbformat": 4,
 "nbformat_minor": 5
}
